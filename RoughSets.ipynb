{
 "cells": [
  {
   "cell_type": "code",
   "execution_count": null,
   "id": "7a4c4397",
   "metadata": {},
   "outputs": [],
   "source": [
    "import pandas as pd\n",
    "import numpy as np\n",
    "import operator\n",
    "from itertools import combinations\n",
    "import matplotlib.pyplot as plt\n",
    "from collections import Counter\n",
    "\n",
    "import time\n",
    "\n",
    "from sklearn.decomposition import PCA\n",
    "from sklearn.preprocessing import StandardScaler\n",
    "\n",
    "import DRSA\n",
    "\n",
    "np.random.seed(314)"
   ]
  },
  {
   "cell_type": "code",
   "execution_count": null,
   "id": "4a9642a8",
   "metadata": {},
   "outputs": [],
   "source": [
    "threshold = 1000\n",
    "credibility = .9"
   ]
  },
  {
   "cell_type": "markdown",
   "id": "97745679",
   "metadata": {},
   "source": [
    "## Data Loading"
   ]
  },
  {
   "cell_type": "code",
   "execution_count": null,
   "id": "db568a1c",
   "metadata": {},
   "outputs": [],
   "source": [
    "df = pd.read_csv(\"data/data.csv\", index_col=0).reset_index(drop=True)\n",
    "df"
   ]
  },
  {
   "cell_type": "code",
   "execution_count": null,
   "id": "0647ba98",
   "metadata": {},
   "outputs": [],
   "source": [
    "target = pd.read_csv(\"data/target.csv\", index_col=0).reset_index(drop=True)\n",
    "target = target[\"IC50_nM\"]\n",
    "target = (target < threshold).astype(int)\n",
    "target"
   ]
  },
  {
   "cell_type": "markdown",
   "id": "2b4e26c6",
   "metadata": {},
   "source": [
    "## Exploratory data analysis"
   ]
  },
  {
   "cell_type": "code",
   "execution_count": null,
   "id": "1d2476dc",
   "metadata": {},
   "outputs": [],
   "source": [
    "pca = PCA(n_components=2)\n",
    "ss = StandardScaler()\n",
    "ss.fit(df)\n",
    "pca.fit(ss.transform(df))\n",
    "df2 = pd.DataFrame(pca.transform(ss.transform(df)), index=df.index)\n",
    "df2"
   ]
  },
  {
   "cell_type": "code",
   "execution_count": null,
   "id": "4d49265c",
   "metadata": {},
   "outputs": [],
   "source": [
    "pca.explained_variance_ratio_, pca.explained_variance_ratio_.sum()"
   ]
  },
  {
   "cell_type": "code",
   "execution_count": null,
   "id": "b91122a3",
   "metadata": {},
   "outputs": [],
   "source": [
    "plt.scatter(df2[0], df2[1], alpha=.25, c=target.values)\n",
    "plt.show()"
   ]
  },
  {
   "cell_type": "code",
   "execution_count": null,
   "id": "d70f6b45",
   "metadata": {
    "scrolled": false
   },
   "outputs": [],
   "source": [
    "q = 120\n",
    "\n",
    "for x in df:\n",
    "    if len(set(df[x])) > 40:\n",
    "        plt.plot(df[x].iloc[df[x].argsort()[q//2:-(q//2-1)]], np.convolve(target.iloc[df[x].argsort()], np.ones(q)/q, mode='valid'))\n",
    "        plt.grid()\n",
    "        plt.title(x)\n",
    "        plt.show()\n",
    "    else:\n",
    "        h = []\n",
    "        w = []\n",
    "        for xx in set(df[x]):\n",
    "            w.append(xx)\n",
    "            h.append(target[df[x]==xx].mean())\n",
    "        plt.bar(w,h)\n",
    "        plt.grid()\n",
    "        plt.title(x)\n",
    "        plt.show()"
   ]
  },
  {
   "cell_type": "code",
   "execution_count": null,
   "id": "331cd484",
   "metadata": {},
   "outputs": [],
   "source": [
    "for x in df:\n",
    "    df[x+\"-\"] = df[x]\n",
    "df"
   ]
  },
  {
   "cell_type": "markdown",
   "id": "5c59f16d",
   "metadata": {},
   "source": [
    "## Data split"
   ]
  },
  {
   "cell_type": "code",
   "execution_count": null,
   "id": "3e22c415",
   "metadata": {},
   "outputs": [],
   "source": [
    "trainFraction = 0.7\n",
    "valFraction = 0.15\n",
    "testFraction = 0.15"
   ]
  },
  {
   "cell_type": "code",
   "execution_count": null,
   "id": "248032e8",
   "metadata": {},
   "outputs": [],
   "source": [
    "size = df.shape[0]\n",
    "idx = np.arange(size)\n",
    "np.random.shuffle(idx)\n",
    "trainX, trainY = df.loc[idx[:int(trainFraction*size)]].reset_index(drop=True), target[idx[:int(trainFraction*size)]]\n",
    "valX = df.loc[idx[int(trainFraction*size):int((trainFraction+valFraction)*size)]].reset_index(drop=True)\n",
    "valY = target[idx[int(trainFraction*size):int((trainFraction+valFraction)*size)]]\n",
    "testX = df.loc[idx[int((trainFraction+valFraction)*size):]].reset_index(drop=True)\n",
    "testY = target[idx[int((trainFraction+valFraction)*size):]]\n"
   ]
  },
  {
   "cell_type": "markdown",
   "id": "ee093f1b",
   "metadata": {},
   "source": [
    "## Model fit"
   ]
  },
  {
   "cell_type": "code",
   "execution_count": null,
   "id": "0acc6024",
   "metadata": {},
   "outputs": [],
   "source": [
    "drsa = DRSA.DRSA([1,1,1,1,1,1,1,1,-1,-1,-1,-1,-1,-1,-1,-1], credibility=credibility)\n",
    "drsa.fit(trainX, trainY.reset_index(drop=True))"
   ]
  },
  {
   "cell_type": "markdown",
   "id": "56563175",
   "metadata": {},
   "source": [
    "## Prediction"
   ]
  },
  {
   "cell_type": "code",
   "execution_count": null,
   "id": "51a29404",
   "metadata": {},
   "outputs": [],
   "source": [
    "pred2 = drsa.predict(testX)"
   ]
  },
  {
   "cell_type": "code",
   "execution_count": null,
   "id": "c7576e06",
   "metadata": {},
   "outputs": [],
   "source": [
    "(pred2 == testY.values).mean()"
   ]
  },
  {
   "cell_type": "code",
   "execution_count": null,
   "id": "50149293",
   "metadata": {},
   "outputs": [],
   "source": []
  }
 ],
 "metadata": {
  "kernelspec": {
   "display_name": "Python 3 (ipykernel)",
   "language": "python",
   "name": "python3"
  },
  "language_info": {
   "codemirror_mode": {
    "name": "ipython",
    "version": 3
   },
   "file_extension": ".py",
   "mimetype": "text/x-python",
   "name": "python",
   "nbconvert_exporter": "python",
   "pygments_lexer": "ipython3",
   "version": "3.9.12"
  }
 },
 "nbformat": 4,
 "nbformat_minor": 5
}
